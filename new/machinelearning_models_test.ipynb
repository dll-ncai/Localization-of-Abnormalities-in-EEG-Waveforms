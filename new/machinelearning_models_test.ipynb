{
 "cells": [
  {
   "cell_type": "markdown",
   "metadata": {},
   "source": [
    "#### Clear Ram"
   ]
  },
  {
   "cell_type": "code",
   "execution_count": 2,
   "metadata": {},
   "outputs": [],
   "source": [
    "import gc\n"
   ]
  },
  {
   "cell_type": "code",
   "execution_count": 3,
   "metadata": {},
   "outputs": [
    {
     "data": {
      "text/plain": [
       "491"
      ]
     },
     "execution_count": 3,
     "metadata": {},
     "output_type": "execute_result"
    }
   ],
   "source": [
    "gc.collect()"
   ]
  },
  {
   "cell_type": "markdown",
   "metadata": {
    "id": "GEveHHgnM9lQ"
   },
   "source": [
    "#### Load Libraries"
   ]
  },
  {
   "cell_type": "code",
   "execution_count": 4,
   "metadata": {
    "colab": {
     "base_uri": "https://localhost:8080/"
    },
    "id": "MAyAys3BM_NA",
    "outputId": "c3ada143-fa94-4431-8a27-57a3c43cd2a1"
   },
   "outputs": [],
   "source": [
    "import mne\n",
    "import numpy as np\n",
    "import pandas \n",
    "import os\n",
    "import matplotlib.pyplot as plt\n",
    "import random\n",
    "from tqdm import tqdm\n",
    "import math\n",
    "import pywt\n",
    "import pickle\n",
    "from utils import *\n",
    "from matplotlib.patches import Rectangle\n",
    "from sklearn.decomposition import PCA\n",
    "\n",
    "random.seed(444)"
   ]
  },
  {
   "cell_type": "markdown",
   "metadata": {
    "id": "ZZUFvGjWNCcJ"
   },
   "source": [
    "### Load & Process Data"
   ]
  },
  {
   "cell_type": "markdown",
   "metadata": {
    "id": "3MjW_N9tNNqR"
   },
   "source": [
    "#### Define Data Paths"
   ]
  },
  {
   "cell_type": "code",
   "execution_count": 5,
   "metadata": {
    "id": "47CSd_RmNAe_"
   },
   "outputs": [],
   "source": [
    "main_path = '/home/dll-1/Desktop/eeg/datasets/Adil paper/'\n",
    "main_path_wavelet = '/home/dll-1/Desktop/eeg/datasets/Adil paper/scallogramTest3/gaus1/'\n",
    "\n",
    "ab_edf_path = main_path + 'edf/Abnormal EDF Files/'\n",
    "n_edf_path = main_path + 'edf/Normal EDF Files/'\n",
    "ab_labels_path = main_path + 'csv/SW & SSW CSV Files/'\n",
    "save_path = main_path + 'data_chunks/'"
   ]
  },
  {
   "cell_type": "markdown",
   "metadata": {},
   "source": []
  },
  {
   "cell_type": "code",
   "execution_count": 6,
   "metadata": {
    "id": "YY4IbROrORf_"
   },
   "outputs": [],
   "source": [
    "class_label_names = ['normal', 'slowing', 'spike and wave']"
   ]
  },
  {
   "cell_type": "markdown",
   "metadata": {},
   "source": [
    "#### Load Data from File"
   ]
  },
  {
   "cell_type": "code",
   "execution_count": 7,
   "metadata": {},
   "outputs": [],
   "source": [
    "all_edf_data = np.concatenate((os.listdir(n_edf_path),os.listdir(ab_edf_path)), axis = 0)"
   ]
  },
  {
   "cell_type": "code",
   "execution_count": 8,
   "metadata": {},
   "outputs": [],
   "source": [
    "# Line position for train and test\n",
    "\n",
    "train_pos = 0\n",
    "valid_pos = 381134\n",
    "test_pos = 448393"
   ]
  },
  {
   "cell_type": "code",
   "execution_count": 9,
   "metadata": {},
   "outputs": [],
   "source": [
    "def getCwt(data,channel,rawData,waveletType):\n",
    "    scales = np.arange(1,24) \n",
    "    sig_cwt,_ = pywt.cwt(data, scales , waveletType,method = 'fft')\n",
    "\n",
    "    feature_vector = []\n",
    "    for k in range(len(sig_cwt)):\n",
    "        feature_vector.append(stat_features(sig_cwt[k]))\n",
    "\n",
    "\n",
    "    fv = np.array(feature_vector).flatten()\n",
    "\n",
    "    return fv\n",
    " "
   ]
  },
  {
   "cell_type": "code",
   "execution_count": 9,
   "metadata": {},
   "outputs": [
    {
     "name": "stdout",
     "output_type": "stream",
     "text": [
      "Automatically found muscle artifact ICA components: [0, 2, 5, 6, 10, 11, 14, 15, 16, 17, 18]\n"
     ]
    },
    {
     "name": "stderr",
     "output_type": "stream",
     "text": [
      " 93%|█████████▎| 1005/1075 [5:21:02<1:11:11, 61.03s/it]"
     ]
    },
    {
     "name": "stdout",
     "output_type": "stream",
     "text": [
      "AAAAAAAAAAAAAAAAAAAAAAAAAAAAAAAAAAAAAAAAAAAA <class 'dict'> 258268\n",
      "epochs_data shape =  (479, 19, 400)\n",
      "Automatically found muscle artifact ICA components: [1, 2, 3, 4, 5, 6, 8, 9, 10, 12, 14, 15, 16, 17, 18]\n"
     ]
    },
    {
     "name": "stderr",
     "output_type": "stream",
     "text": [
      " 94%|█████████▎| 1006/1075 [5:21:19<55:00, 47.83s/it]  "
     ]
    },
    {
     "name": "stdout",
     "output_type": "stream",
     "text": [
      "AAAAAAAAAAAAAAAAAAAAAAAAAAAAAAAAAAAAAAAAAAAA <class 'dict'> 259674\n",
      "epochs_data shape =  (1851, 19, 400)\n",
      "Automatically found muscle artifact ICA components: [3, 4, 6, 7, 9, 10, 11, 12, 13, 14, 15, 16, 17, 18]\n"
     ]
    },
    {
     "name": "stderr",
     "output_type": "stream",
     "text": [
      " 94%|█████████▎| 1007/1075 [5:22:47<1:07:47, 59.81s/it]"
     ]
    },
    {
     "name": "stdout",
     "output_type": "stream",
     "text": [
      "AAAAAAAAAAAAAAAAAAAAAAAAAAAAAAAAAAAAAAAAAAAA <class 'dict'> 266245\n",
      "epochs_data shape =  (1383, 19, 400)\n",
      "Automatically found muscle artifact ICA components: [3, 4, 5, 6, 7, 8, 12, 13, 14, 15, 16, 17, 18]\n"
     ]
    },
    {
     "name": "stderr",
     "output_type": "stream",
     "text": [
      " 94%|█████████▍| 1008/1075 [5:23:05<52:38, 47.15s/it]  "
     ]
    },
    {
     "name": "stdout",
     "output_type": "stream",
     "text": [
      "AAAAAAAAAAAAAAAAAAAAAAAAAAAAAAAAAAAAAAAAAAAA <class 'dict'> 267043\n",
      "epochs_data shape =  (1802, 19, 400)\n",
      "Automatically found muscle artifact ICA components: [1, 6, 7, 9, 10, 12, 13, 14, 15, 16, 17, 18]\n"
     ]
    },
    {
     "name": "stderr",
     "output_type": "stream",
     "text": [
      " 94%|█████████▍| 1009/1075 [5:23:34<45:51, 41.69s/it]"
     ]
    },
    {
     "name": "stdout",
     "output_type": "stream",
     "text": [
      "AAAAAAAAAAAAAAAAAAAAAAAAAAAAAAAAAAAAAAAAAAAA <class 'dict'> 268109\n",
      "epochs_data shape =  (861, 19, 400)\n",
      "Automatically found muscle artifact ICA components: [1, 2, 4, 5, 6, 8, 9, 10, 12, 13, 14, 15, 17, 18]\n"
     ]
    },
    {
     "name": "stderr",
     "output_type": "stream",
     "text": [
      " 94%|█████████▍| 1010/1075 [5:24:00<40:04, 36.99s/it]"
     ]
    },
    {
     "name": "stdout",
     "output_type": "stream",
     "text": [
      "AAAAAAAAAAAAAAAAAAAAAAAAAAAAAAAAAAAAAAAAAAAA <class 'dict'> 268582\n",
      "epochs_data shape =  (911, 19, 400)\n",
      "Automatically found muscle artifact ICA components: [0, 3, 4, 8, 9, 11, 13, 14, 16, 17, 18]\n"
     ]
    },
    {
     "name": "stderr",
     "output_type": "stream",
     "text": [
      " 94%|█████████▍| 1011/1075 [5:24:25<35:53, 33.64s/it]"
     ]
    },
    {
     "name": "stdout",
     "output_type": "stream",
     "text": [
      "AAAAAAAAAAAAAAAAAAAAAAAAAAAAAAAAAAAAAAAAAAAA <class 'dict'> 268582\n",
      "epochs_data shape =  (791, 19, 400)\n",
      "Automatically found muscle artifact ICA components: [3, 4, 5, 8, 12, 14, 15, 16, 17, 18]\n"
     ]
    },
    {
     "name": "stderr",
     "output_type": "stream",
     "text": [
      " 94%|█████████▍| 1012/1075 [5:24:41<29:30, 28.10s/it]"
     ]
    },
    {
     "name": "stdout",
     "output_type": "stream",
     "text": [
      "AAAAAAAAAAAAAAAAAAAAAAAAAAAAAAAAAAAAAAAAAAAA <class 'dict'> 269057\n",
      "epochs_data shape =  (1500, 19, 400)\n",
      "Automatically found muscle artifact ICA components: [2, 4, 6, 8, 9, 10, 12, 13, 14, 15, 16, 17, 18]\n"
     ]
    },
    {
     "name": "stderr",
     "output_type": "stream",
     "text": [
      " 94%|█████████▍| 1013/1075 [5:25:04<27:29, 26.61s/it]"
     ]
    },
    {
     "name": "stdout",
     "output_type": "stream",
     "text": [
      "AAAAAAAAAAAAAAAAAAAAAAAAAAAAAAAAAAAAAAAAAAAA <class 'dict'> 270261\n",
      "epochs_data shape =  (1799, 19, 400)\n",
      "Automatically found muscle artifact ICA components: [2, 3, 7, 11, 12, 13, 14, 15, 16, 17, 18]\n"
     ]
    },
    {
     "name": "stderr",
     "output_type": "stream",
     "text": [
      " 94%|█████████▍| 1014/1075 [5:25:28<26:13, 25.80s/it]"
     ]
    },
    {
     "name": "stdout",
     "output_type": "stream",
     "text": [
      "AAAAAAAAAAAAAAAAAAAAAAAAAAAAAAAAAAAAAAAAAAAA <class 'dict'> 271162\n",
      "epochs_data shape =  (903, 19, 400)\n",
      "Automatically found muscle artifact ICA components: [3, 4, 6, 9, 10, 12, 13, 14, 15, 16, 17, 18]\n"
     ]
    },
    {
     "name": "stderr",
     "output_type": "stream",
     "text": [
      " 94%|█████████▍| 1015/1075 [5:25:51<24:57, 24.96s/it]"
     ]
    },
    {
     "name": "stdout",
     "output_type": "stream",
     "text": [
      "AAAAAAAAAAAAAAAAAAAAAAAAAAAAAAAAAAAAAAAAAAAA <class 'dict'> 271162\n",
      "epochs_data shape =  (902, 19, 400)\n",
      "Automatically found muscle artifact ICA components: [0, 2, 5, 9, 10, 11, 12, 13, 14, 15, 16, 17, 18]\n"
     ]
    },
    {
     "name": "stderr",
     "output_type": "stream",
     "text": [
      " 95%|█████████▍| 1016/1075 [5:26:11<23:18, 23.70s/it]"
     ]
    },
    {
     "name": "stdout",
     "output_type": "stream",
     "text": [
      "AAAAAAAAAAAAAAAAAAAAAAAAAAAAAAAAAAAAAAAAAAAA <class 'dict'> 271698\n",
      "epochs_data shape =  (731, 19, 400)\n",
      "Automatically found muscle artifact ICA components: [3, 4, 5, 6, 9, 10, 12, 13, 14, 15, 16, 17]\n"
     ]
    },
    {
     "name": "stderr",
     "output_type": "stream",
     "text": [
      " 95%|█████████▍| 1017/1075 [5:27:10<33:09, 34.30s/it]"
     ]
    },
    {
     "name": "stdout",
     "output_type": "stream",
     "text": [
      "AAAAAAAAAAAAAAAAAAAAAAAAAAAAAAAAAAAAAAAAAAAA <class 'dict'> 271698\n",
      "epochs_data shape =  (842, 19, 400)\n",
      "Automatically found muscle artifact ICA components: [4, 6, 7, 10, 11, 12, 13, 14, 15, 16, 17, 18]\n"
     ]
    },
    {
     "name": "stderr",
     "output_type": "stream",
     "text": [
      " 95%|█████████▍| 1018/1075 [5:28:25<44:11, 46.52s/it]"
     ]
    },
    {
     "name": "stdout",
     "output_type": "stream",
     "text": [
      "AAAAAAAAAAAAAAAAAAAAAAAAAAAAAAAAAAAAAAAAAAAA <class 'dict'> 282281\n",
      "epochs_data shape =  (1799, 19, 400)\n",
      "Automatically found muscle artifact ICA components: [3, 4, 5, 6, 7, 9, 11, 12, 13, 14, 15, 16, 17, 18]\n"
     ]
    },
    {
     "name": "stderr",
     "output_type": "stream",
     "text": [
      " 95%|█████████▍| 1019/1075 [5:31:56<1:29:26, 95.83s/it]"
     ]
    },
    {
     "name": "stdout",
     "output_type": "stream",
     "text": [
      "AAAAAAAAAAAAAAAAAAAAAAAAAAAAAAAAAAAAAAAAAAAA <class 'dict'> 313783\n",
      "epochs_data shape =  (622, 19, 400)\n",
      "Automatically found muscle artifact ICA components: [0, 1, 2, 3, 5, 6, 7, 8, 11, 12, 14, 15, 16, 18]\n"
     ]
    },
    {
     "name": "stderr",
     "output_type": "stream",
     "text": [
      " 95%|█████████▍| 1020/1075 [5:32:23<1:08:55, 75.19s/it]"
     ]
    },
    {
     "name": "stdout",
     "output_type": "stream",
     "text": [
      "AAAAAAAAAAAAAAAAAAAAAAAAAAAAAAAAAAAAAAAAAAAA <class 'dict'> 313783\n",
      "epochs_data shape =  (1800, 19, 400)\n",
      "Automatically found muscle artifact ICA components: [1, 6, 7, 9, 10, 11, 12, 13, 14, 15, 16, 17, 18]\n"
     ]
    },
    {
     "name": "stderr",
     "output_type": "stream",
     "text": [
      " 95%|█████████▍| 1021/1075 [5:33:17<1:01:44, 68.61s/it]"
     ]
    },
    {
     "name": "stdout",
     "output_type": "stream",
     "text": [
      "AAAAAAAAAAAAAAAAAAAAAAAAAAAAAAAAAAAAAAAAAAAA <class 'dict'> 316216\n",
      "epochs_data shape =  (1401, 19, 400)\n",
      "Automatically found muscle artifact ICA components: [0, 1, 6, 7, 8, 11, 12, 13, 14, 15, 16, 17, 18]\n"
     ]
    },
    {
     "name": "stderr",
     "output_type": "stream",
     "text": [
      " 95%|█████████▌| 1022/1075 [5:34:08<56:07, 63.55s/it]  "
     ]
    },
    {
     "name": "stdout",
     "output_type": "stream",
     "text": [
      "AAAAAAAAAAAAAAAAAAAAAAAAAAAAAAAAAAAAAAAAAAAA <class 'dict'> 318899\n",
      "epochs_data shape =  (847, 19, 400)\n",
      "Automatically found muscle artifact ICA components: [0, 2, 7, 9, 10, 12, 14, 15, 16, 17, 18]\n"
     ]
    },
    {
     "name": "stderr",
     "output_type": "stream",
     "text": [
      " 95%|█████████▌| 1023/1075 [5:34:34<45:14, 52.20s/it]"
     ]
    },
    {
     "name": "stdout",
     "output_type": "stream",
     "text": [
      "AAAAAAAAAAAAAAAAAAAAAAAAAAAAAAAAAAAAAAAAAAAA <class 'dict'> 318899\n",
      "epochs_data shape =  (1849, 19, 400)\n",
      "Automatically found muscle artifact ICA components: [0, 1, 2, 3, 4, 7, 8, 14, 15, 16, 17, 18]\n"
     ]
    },
    {
     "name": "stderr",
     "output_type": "stream",
     "text": [
      " 95%|█████████▌| 1024/1075 [5:38:00<1:23:30, 98.24s/it]"
     ]
    },
    {
     "name": "stdout",
     "output_type": "stream",
     "text": [
      "AAAAAAAAAAAAAAAAAAAAAAAAAAAAAAAAAAAAAAAAAAAA <class 'dict'> 350420\n",
      "epochs_data shape =  (879, 19, 400)\n",
      "Automatically found muscle artifact ICA components: [4, 5, 6, 9, 10, 12, 13, 14, 16, 17, 18]\n"
     ]
    },
    {
     "name": "stderr",
     "output_type": "stream",
     "text": [
      " 95%|█████████▌| 1025/1075 [5:38:32<1:05:24, 78.50s/it]"
     ]
    },
    {
     "name": "stdout",
     "output_type": "stream",
     "text": [
      "AAAAAAAAAAAAAAAAAAAAAAAAAAAAAAAAAAAAAAAAAAAA <class 'dict'> 353560\n",
      "epochs_data shape =  (786, 19, 400)\n",
      "Automatically found muscle artifact ICA components: [1, 2, 3, 6, 8, 9, 10, 11, 12, 13, 15, 16, 17, 18]\n"
     ]
    },
    {
     "name": "stderr",
     "output_type": "stream",
     "text": [
      " 95%|█████████▌| 1026/1075 [5:38:52<49:49, 61.01s/it]  "
     ]
    },
    {
     "name": "stdout",
     "output_type": "stream",
     "text": [
      "AAAAAAAAAAAAAAAAAAAAAAAAAAAAAAAAAAAAAAAAAAAA <class 'dict'> 355088\n",
      "epochs_data shape =  (680, 19, 400)\n",
      "Automatically found muscle artifact ICA components: [0, 2, 6, 7, 8, 11, 12, 13, 14, 15, 16, 17, 18]\n"
     ]
    },
    {
     "name": "stderr",
     "output_type": "stream",
     "text": [
      " 96%|█████████▌| 1027/1075 [5:39:17<39:58, 49.96s/it]"
     ]
    },
    {
     "name": "stdout",
     "output_type": "stream",
     "text": [
      "AAAAAAAAAAAAAAAAAAAAAAAAAAAAAAAAAAAAAAAAAAAA <class 'dict'> 355423\n",
      "epochs_data shape =  (521, 19, 400)\n",
      "Automatically found muscle artifact ICA components: [0, 1, 3, 5, 10, 11, 12, 13, 14, 15, 16, 17, 18]\n"
     ]
    },
    {
     "name": "stderr",
     "output_type": "stream",
     "text": [
      " 96%|█████████▌| 1028/1075 [5:40:01<37:46, 48.23s/it]"
     ]
    },
    {
     "name": "stdout",
     "output_type": "stream",
     "text": [
      "AAAAAAAAAAAAAAAAAAAAAAAAAAAAAAAAAAAAAAAAAAAA <class 'dict'> 361370\n",
      "epochs_data shape =  (864, 19, 400)\n",
      "Automatically found muscle artifact ICA components: [0, 1, 2, 3, 4, 8, 9, 12, 13, 15, 16, 17, 18]\n"
     ]
    },
    {
     "name": "stderr",
     "output_type": "stream",
     "text": [
      " 96%|█████████▌| 1029/1075 [5:40:20<30:23, 39.64s/it]"
     ]
    },
    {
     "name": "stdout",
     "output_type": "stream",
     "text": [
      "AAAAAAAAAAAAAAAAAAAAAAAAAAAAAAAAAAAAAAAAAAAA <class 'dict'> 361853\n",
      "epochs_data shape =  (1863, 19, 400)\n",
      "Automatically found muscle artifact ICA components: [3, 6, 10, 12, 13, 14, 15, 16, 17, 18]\n"
     ]
    },
    {
     "name": "stderr",
     "output_type": "stream",
     "text": [
      " 96%|█████████▌| 1030/1075 [5:40:54<28:22, 37.84s/it]"
     ]
    },
    {
     "name": "stdout",
     "output_type": "stream",
     "text": [
      "AAAAAAAAAAAAAAAAAAAAAAAAAAAAAAAAAAAAAAAAAAAA <class 'dict'> 364458\n",
      "epochs_data shape =  (837, 19, 400)\n",
      "Automatically found muscle artifact ICA components: [1, 2, 8, 9, 10, 11, 12, 13, 14, 15, 16, 17, 18]\n"
     ]
    },
    {
     "name": "stderr",
     "output_type": "stream",
     "text": [
      " 96%|█████████▌| 1031/1075 [5:41:22<25:36, 34.93s/it]"
     ]
    },
    {
     "name": "stdout",
     "output_type": "stream",
     "text": [
      "AAAAAAAAAAAAAAAAAAAAAAAAAAAAAAAAAAAAAAAAAAAA <class 'dict'> 365077\n",
      "epochs_data shape =  (1329, 19, 400)\n",
      "Automatically found muscle artifact ICA components: [0, 1, 2, 6, 7, 10, 11, 14, 16, 17, 18]\n"
     ]
    },
    {
     "name": "stderr",
     "output_type": "stream",
     "text": [
      " 96%|█████████▌| 1032/1075 [5:41:47<22:55, 31.99s/it]"
     ]
    },
    {
     "name": "stdout",
     "output_type": "stream",
     "text": [
      "AAAAAAAAAAAAAAAAAAAAAAAAAAAAAAAAAAAAAAAAAAAA <class 'dict'> 366274\n",
      "epochs_data shape =  (1012, 19, 400)\n",
      "Automatically found muscle artifact ICA components: [0, 1, 11, 12, 13, 14, 15, 16, 17, 18]\n"
     ]
    },
    {
     "name": "stderr",
     "output_type": "stream",
     "text": [
      " 96%|█████████▌| 1033/1075 [5:42:34<25:27, 36.38s/it]"
     ]
    },
    {
     "name": "stdout",
     "output_type": "stream",
     "text": [
      "AAAAAAAAAAAAAAAAAAAAAAAAAAAAAAAAAAAAAAAAAAAA <class 'dict'> 369447\n",
      "epochs_data shape =  (1676, 19, 400)\n",
      "Automatically found muscle artifact ICA components: [0, 4, 6, 7, 8, 10, 12, 13, 14, 15, 17, 18]\n"
     ]
    },
    {
     "name": "stderr",
     "output_type": "stream",
     "text": [
      " 96%|█████████▌| 1034/1075 [5:42:59<22:36, 33.07s/it]"
     ]
    },
    {
     "name": "stdout",
     "output_type": "stream",
     "text": [
      "AAAAAAAAAAAAAAAAAAAAAAAAAAAAAAAAAAAAAAAAAAAA <class 'dict'> 370340\n",
      "epochs_data shape =  (2253, 19, 400)\n",
      "Automatically found muscle artifact ICA components: [1, 2, 5, 7, 9, 10, 11, 12, 14, 15, 16, 17, 18]\n"
     ]
    },
    {
     "name": "stderr",
     "output_type": "stream",
     "text": [
      " 96%|█████████▋| 1035/1075 [5:43:57<26:58, 40.47s/it]"
     ]
    },
    {
     "name": "stdout",
     "output_type": "stream",
     "text": [
      "AAAAAAAAAAAAAAAAAAAAAAAAAAAAAAAAAAAAAAAAAAAA <class 'dict'> 371585\n",
      "epochs_data shape =  (719, 19, 400)\n",
      "Automatically found muscle artifact ICA components: [1, 3, 4, 5, 6, 7, 9, 10, 11, 12, 16, 17, 18]\n"
     ]
    },
    {
     "name": "stderr",
     "output_type": "stream",
     "text": [
      " 96%|█████████▋| 1036/1075 [5:44:27<24:15, 37.32s/it]"
     ]
    },
    {
     "name": "stdout",
     "output_type": "stream",
     "text": [
      "AAAAAAAAAAAAAAAAAAAAAAAAAAAAAAAAAAAAAAAAAAAA <class 'dict'> 373165\n",
      "epochs_data shape =  (1150, 19, 400)\n",
      "Automatically found muscle artifact ICA components: [0, 2, 4, 7, 8, 9, 10, 11, 12, 13, 14, 16, 17, 18]\n"
     ]
    },
    {
     "name": "stderr",
     "output_type": "stream",
     "text": [
      " 96%|█████████▋| 1037/1075 [5:45:04<23:32, 37.18s/it]"
     ]
    },
    {
     "name": "stdout",
     "output_type": "stream",
     "text": [
      "AAAAAAAAAAAAAAAAAAAAAAAAAAAAAAAAAAAAAAAAAAAA <class 'dict'> 374744\n",
      "epochs_data shape =  (1799, 19, 400)\n",
      "Automatically found muscle artifact ICA components: [3, 5, 6, 8, 9, 10, 11, 12, 13, 14, 15, 16, 17, 18]\n"
     ]
    },
    {
     "name": "stderr",
     "output_type": "stream",
     "text": [
      " 97%|█████████▋| 1038/1075 [5:45:33<21:30, 34.87s/it]"
     ]
    },
    {
     "name": "stdout",
     "output_type": "stream",
     "text": [
      "AAAAAAAAAAAAAAAAAAAAAAAAAAAAAAAAAAAAAAAAAAAA <class 'dict'> 376273\n",
      "epochs_data shape =  (974, 19, 400)\n",
      "Automatically found muscle artifact ICA components: [0, 1, 2, 5, 7, 13, 14, 15, 16, 17, 18]\n"
     ]
    },
    {
     "name": "stderr",
     "output_type": "stream",
     "text": [
      " 97%|█████████▋| 1039/1075 [5:45:59<19:14, 32.06s/it]"
     ]
    },
    {
     "name": "stdout",
     "output_type": "stream",
     "text": [
      "AAAAAAAAAAAAAAAAAAAAAAAAAAAAAAAAAAAAAAAAAAAA <class 'dict'> 376273\n",
      "epochs_data shape =  (405, 19, 400)\n",
      "Automatically found muscle artifact ICA components: [0, 2, 3, 4, 6, 10, 12, 14, 16, 18]\n"
     ]
    },
    {
     "name": "stderr",
     "output_type": "stream",
     "text": [
      " 97%|█████████▋| 1040/1075 [5:46:15<15:52, 27.22s/it]"
     ]
    },
    {
     "name": "stdout",
     "output_type": "stream",
     "text": [
      "AAAAAAAAAAAAAAAAAAAAAAAAAAAAAAAAAAAAAAAAAAAA <class 'dict'> 376521\n",
      "epochs_data shape =  (2872, 19, 400)\n",
      "Automatically found muscle artifact ICA components: [0, 5, 6, 7, 9, 10, 12, 13, 14, 15, 16, 17, 18]\n"
     ]
    },
    {
     "name": "stderr",
     "output_type": "stream",
     "text": [
      " 97%|█████████▋| 1041/1075 [5:47:19<21:46, 38.43s/it]"
     ]
    },
    {
     "name": "stdout",
     "output_type": "stream",
     "text": [
      "AAAAAAAAAAAAAAAAAAAAAAAAAAAAAAAAAAAAAAAAAAAA <class 'dict'> 378859\n",
      "epochs_data shape =  (325, 19, 400)\n",
      "Automatically found muscle artifact ICA components: [1, 6, 7, 8, 9, 10, 11, 12, 13, 14, 15, 16, 17, 18]\n"
     ]
    },
    {
     "name": "stderr",
     "output_type": "stream",
     "text": [
      " 97%|█████████▋| 1042/1075 [5:47:30<16:29, 29.99s/it]"
     ]
    },
    {
     "name": "stdout",
     "output_type": "stream",
     "text": [
      "AAAAAAAAAAAAAAAAAAAAAAAAAAAAAAAAAAAAAAAAAAAA <class 'dict'> 379129\n",
      "epochs_data shape =  (962, 19, 400)\n",
      "Automatically found muscle artifact ICA components: [1, 3, 5, 8, 9, 10, 12, 13, 14, 15, 16, 17, 18]\n"
     ]
    },
    {
     "name": "stderr",
     "output_type": "stream",
     "text": [
      " 97%|█████████▋| 1043/1075 [5:48:03<16:30, 30.96s/it]"
     ]
    },
    {
     "name": "stdout",
     "output_type": "stream",
     "text": [
      "AAAAAAAAAAAAAAAAAAAAAAAAAAAAAAAAAAAAAAAAAAAA <class 'dict'> 380440\n",
      "epochs_data shape =  (764, 19, 400)\n",
      "Automatically found muscle artifact ICA components: [1, 5, 8, 10, 11, 13, 14, 15, 16, 17, 18]\n"
     ]
    },
    {
     "name": "stderr",
     "output_type": "stream",
     "text": [
      " 97%|█████████▋| 1044/1075 [5:48:14<12:57, 25.07s/it]"
     ]
    },
    {
     "name": "stdout",
     "output_type": "stream",
     "text": [
      "AAAAAAAAAAAAAAAAAAAAAAAAAAAAAAAAAAAAAAAAAAAA <class 'dict'> 380956\n",
      "epochs_data shape =  (1799, 19, 400)\n",
      "Automatically found muscle artifact ICA components: [0, 6, 7, 8, 9, 10, 11, 12, 13, 14, 15, 16, 17, 18]\n"
     ]
    },
    {
     "name": "stderr",
     "output_type": "stream",
     "text": [
      " 97%|█████████▋| 1045/1075 [5:48:48<13:49, 27.63s/it]"
     ]
    },
    {
     "name": "stdout",
     "output_type": "stream",
     "text": [
      "AAAAAAAAAAAAAAAAAAAAAAAAAAAAAAAAAAAAAAAAAAAA <class 'dict'> 381859\n",
      "epochs_data shape =  (1799, 19, 400)\n",
      "Automatically found muscle artifact ICA components: [3, 9, 10, 11, 12, 13, 14, 15, 16, 17, 18]\n"
     ]
    },
    {
     "name": "stderr",
     "output_type": "stream",
     "text": [
      " 97%|█████████▋| 1046/1075 [5:49:20<14:00, 28.98s/it]"
     ]
    },
    {
     "name": "stdout",
     "output_type": "stream",
     "text": [
      "AAAAAAAAAAAAAAAAAAAAAAAAAAAAAAAAAAAAAAAAAAAA <class 'dict'> 381859\n",
      "epochs_data shape =  (1199, 19, 400)\n",
      "Automatically found muscle artifact ICA components: [0, 1, 4, 5, 7, 9, 10, 11, 12, 13, 14, 17, 18]\n"
     ]
    },
    {
     "name": "stderr",
     "output_type": "stream",
     "text": [
      " 97%|█████████▋| 1047/1075 [5:49:38<12:00, 25.72s/it]"
     ]
    },
    {
     "name": "stdout",
     "output_type": "stream",
     "text": [
      "AAAAAAAAAAAAAAAAAAAAAAAAAAAAAAAAAAAAAAAAAAAA <class 'dict'> 383019\n",
      "epochs_data shape =  (540, 19, 400)\n",
      "Automatically found muscle artifact ICA components: [0, 3, 4, 8, 10, 12, 13, 14, 15, 16, 17, 18]\n"
     ]
    },
    {
     "name": "stderr",
     "output_type": "stream",
     "text": [
      " 97%|█████████▋| 1048/1075 [5:49:47<09:20, 20.76s/it]"
     ]
    },
    {
     "name": "stdout",
     "output_type": "stream",
     "text": [
      "AAAAAAAAAAAAAAAAAAAAAAAAAAAAAAAAAAAAAAAAAAAA <class 'dict'> 383019\n",
      "epochs_data shape =  (938, 19, 400)\n",
      "Automatically found muscle artifact ICA components: [2, 3, 4, 6, 7, 8, 9, 10, 11, 12, 13, 15, 16, 17, 18]\n"
     ]
    },
    {
     "name": "stderr",
     "output_type": "stream",
     "text": [
      " 98%|█████████▊| 1049/1075 [5:50:10<09:16, 21.39s/it]"
     ]
    },
    {
     "name": "stdout",
     "output_type": "stream",
     "text": [
      "AAAAAAAAAAAAAAAAAAAAAAAAAAAAAAAAAAAAAAAAAAAA <class 'dict'> 383950\n",
      "epochs_data shape =  (407, 19, 400)\n",
      "Automatically found muscle artifact ICA components: [0, 2, 3, 4, 5, 6, 7, 8, 9, 10, 12, 14, 15, 16, 17, 18]\n"
     ]
    },
    {
     "name": "stderr",
     "output_type": "stream",
     "text": [
      " 98%|█████████▊| 1050/1075 [5:50:22<07:45, 18.63s/it]"
     ]
    },
    {
     "name": "stdout",
     "output_type": "stream",
     "text": [
      "AAAAAAAAAAAAAAAAAAAAAAAAAAAAAAAAAAAAAAAAAAAA <class 'dict'> 384408\n",
      "epochs_data shape =  (788, 19, 400)\n",
      "Automatically found muscle artifact ICA components: [0, 2, 3, 4, 8, 10, 12, 13, 14, 15, 16, 17, 18]\n"
     ]
    },
    {
     "name": "stderr",
     "output_type": "stream",
     "text": [
      " 98%|█████████▊| 1051/1075 [5:50:41<07:27, 18.63s/it]"
     ]
    },
    {
     "name": "stdout",
     "output_type": "stream",
     "text": [
      "AAAAAAAAAAAAAAAAAAAAAAAAAAAAAAAAAAAAAAAAAAAA <class 'dict'> 386004\n",
      "epochs_data shape =  (719, 19, 400)\n",
      "Automatically found muscle artifact ICA components: [3, 7, 8, 10, 11, 12, 13, 14, 15, 16, 17, 18]\n"
     ]
    },
    {
     "name": "stderr",
     "output_type": "stream",
     "text": [
      " 98%|█████████▊| 1052/1075 [5:51:00<07:08, 18.62s/it]"
     ]
    },
    {
     "name": "stdout",
     "output_type": "stream",
     "text": [
      "AAAAAAAAAAAAAAAAAAAAAAAAAAAAAAAAAAAAAAAAAAAA <class 'dict'> 386004\n",
      "epochs_data shape =  (1804, 19, 400)\n",
      "Automatically found muscle artifact ICA components: [0, 2, 6, 8, 9, 10, 11, 12, 13, 14, 15, 16, 17, 18]\n"
     ]
    },
    {
     "name": "stderr",
     "output_type": "stream",
     "text": [
      " 98%|█████████▊| 1053/1075 [5:52:19<13:32, 36.95s/it]"
     ]
    },
    {
     "name": "stdout",
     "output_type": "stream",
     "text": [
      "AAAAAAAAAAAAAAAAAAAAAAAAAAAAAAAAAAAAAAAAAAAA <class 'dict'> 386954\n",
      "epochs_data shape =  (706, 19, 400)\n",
      "Automatically found muscle artifact ICA components: [0, 1, 2, 7, 8, 10, 11, 14, 15, 16, 17, 18]\n"
     ]
    },
    {
     "name": "stderr",
     "output_type": "stream",
     "text": [
      " 98%|█████████▊| 1054/1075 [5:52:44<11:36, 33.16s/it]"
     ]
    },
    {
     "name": "stdout",
     "output_type": "stream",
     "text": [
      "AAAAAAAAAAAAAAAAAAAAAAAAAAAAAAAAAAAAAAAAAAAA <class 'dict'> 386954\n",
      "epochs_data shape =  (836, 19, 400)\n",
      "Automatically found muscle artifact ICA components: [1, 3, 5, 8, 10, 11, 12, 14, 16, 17, 18]\n"
     ]
    },
    {
     "name": "stderr",
     "output_type": "stream",
     "text": [
      " 98%|█████████▊| 1055/1075 [5:52:58<09:10, 27.55s/it]"
     ]
    },
    {
     "name": "stdout",
     "output_type": "stream",
     "text": [
      "AAAAAAAAAAAAAAAAAAAAAAAAAAAAAAAAAAAAAAAAAAAA <class 'dict'> 387486\n",
      "epochs_data shape =  (1805, 19, 400)\n",
      "Automatically found muscle artifact ICA components: [1, 4, 7, 8, 10, 11, 12, 13, 14, 15, 16, 17, 18]\n"
     ]
    },
    {
     "name": "stderr",
     "output_type": "stream",
     "text": [
      " 98%|█████████▊| 1056/1075 [5:53:20<08:09, 25.75s/it]"
     ]
    },
    {
     "name": "stdout",
     "output_type": "stream",
     "text": [
      "AAAAAAAAAAAAAAAAAAAAAAAAAAAAAAAAAAAAAAAAAAAA <class 'dict'> 388474\n",
      "epochs_data shape =  (1805, 19, 400)\n",
      "Automatically found muscle artifact ICA components: [0, 1, 3, 4, 5, 6, 7, 8, 9, 12, 13, 15, 16, 17, 18]\n"
     ]
    },
    {
     "name": "stderr",
     "output_type": "stream",
     "text": [
      " 98%|█████████▊| 1057/1075 [5:55:24<16:36, 55.35s/it]"
     ]
    },
    {
     "name": "stdout",
     "output_type": "stream",
     "text": [
      "AAAAAAAAAAAAAAAAAAAAAAAAAAAAAAAAAAAAAAAAAAAA <class 'dict'> 402629\n",
      "epochs_data shape =  (1803, 19, 400)\n",
      "Automatically found muscle artifact ICA components: [5, 6, 7, 8, 10, 11, 12, 13, 14, 15, 16, 17, 18]\n"
     ]
    },
    {
     "name": "stderr",
     "output_type": "stream",
     "text": [
      " 98%|█████████▊| 1058/1075 [5:56:06<14:34, 51.42s/it]"
     ]
    },
    {
     "name": "stdout",
     "output_type": "stream",
     "text": [
      "AAAAAAAAAAAAAAAAAAAAAAAAAAAAAAAAAAAAAAAAAAAA <class 'dict'> 405272\n",
      "epochs_data shape =  (1809, 19, 400)\n",
      "Automatically found muscle artifact ICA components: [3, 4, 5, 7, 8, 10, 11, 12, 13, 14, 15, 16, 17, 18]\n"
     ]
    },
    {
     "name": "stderr",
     "output_type": "stream",
     "text": [
      " 99%|█████████▊| 1059/1075 [5:56:48<12:57, 48.57s/it]"
     ]
    },
    {
     "name": "stdout",
     "output_type": "stream",
     "text": [
      "AAAAAAAAAAAAAAAAAAAAAAAAAAAAAAAAAAAAAAAAAAAA <class 'dict'> 405272\n",
      "epochs_data shape =  (2130, 19, 400)\n",
      "Automatically found muscle artifact ICA components: [0, 2, 4, 6, 9, 11, 12, 13, 14, 16, 17, 18]\n"
     ]
    },
    {
     "name": "stderr",
     "output_type": "stream",
     "text": [
      " 99%|█████████▊| 1060/1075 [5:58:25<15:48, 63.20s/it]"
     ]
    },
    {
     "name": "stdout",
     "output_type": "stream",
     "text": [
      "AAAAAAAAAAAAAAAAAAAAAAAAAAAAAAAAAAAAAAAAAAAA <class 'dict'> 405272\n",
      "epochs_data shape =  (1262, 19, 400)\n",
      "Automatically found muscle artifact ICA components: [0, 4, 5, 6, 8, 9, 10, 11, 12, 13, 14, 15, 16, 17, 18]\n"
     ]
    },
    {
     "name": "stderr",
     "output_type": "stream",
     "text": [
      " 99%|█████████▊| 1061/1075 [5:59:04<13:01, 55.85s/it]"
     ]
    },
    {
     "name": "stdout",
     "output_type": "stream",
     "text": [
      "AAAAAAAAAAAAAAAAAAAAAAAAAAAAAAAAAAAAAAAAAAAA <class 'dict'> 406108\n",
      "epochs_data shape =  (1418, 19, 400)\n",
      "Automatically found muscle artifact ICA components: [1, 4, 6, 7, 8, 9, 10, 11, 12, 13, 14, 15, 16, 17, 18]\n"
     ]
    },
    {
     "name": "stderr",
     "output_type": "stream",
     "text": [
      " 99%|█████████▉| 1062/1075 [5:59:31<10:14, 47.27s/it]"
     ]
    },
    {
     "name": "stdout",
     "output_type": "stream",
     "text": [
      "AAAAAAAAAAAAAAAAAAAAAAAAAAAAAAAAAAAAAAAAAAAA <class 'dict'> 406816\n",
      "epochs_data shape =  (2153, 19, 400)\n",
      "Automatically found muscle artifact ICA components: [0, 1, 4, 5, 6, 8, 10, 11, 12, 13, 14, 15, 17, 18]\n"
     ]
    },
    {
     "name": "stderr",
     "output_type": "stream",
     "text": [
      " 99%|█████████▉| 1063/1075 [6:00:13<09:06, 45.58s/it]"
     ]
    },
    {
     "name": "stdout",
     "output_type": "stream",
     "text": [
      "AAAAAAAAAAAAAAAAAAAAAAAAAAAAAAAAAAAAAAAAAAAA <class 'dict'> 407899\n",
      "epochs_data shape =  (1799, 19, 400)\n",
      "Automatically found muscle artifact ICA components: [6, 8, 9, 10, 11, 12, 13, 14, 15, 16, 17, 18]\n"
     ]
    },
    {
     "name": "stderr",
     "output_type": "stream",
     "text": [
      " 99%|█████████▉| 1064/1075 [6:00:37<07:10, 39.11s/it]"
     ]
    },
    {
     "name": "stdout",
     "output_type": "stream",
     "text": [
      "AAAAAAAAAAAAAAAAAAAAAAAAAAAAAAAAAAAAAAAAAAAA <class 'dict'> 407899\n",
      "epochs_data shape =  (1129, 19, 400)\n",
      "Automatically found muscle artifact ICA components: [0, 2, 3, 5, 6, 7, 8, 10, 11, 13, 16, 18]\n"
     ]
    },
    {
     "name": "stderr",
     "output_type": "stream",
     "text": [
      " 99%|█████████▉| 1065/1075 [6:01:07<06:03, 36.35s/it]"
     ]
    },
    {
     "name": "stdout",
     "output_type": "stream",
     "text": [
      "AAAAAAAAAAAAAAAAAAAAAAAAAAAAAAAAAAAAAAAAAAAA <class 'dict'> 409961\n",
      "epochs_data shape =  (1799, 19, 400)\n",
      "Automatically found muscle artifact ICA components: [0, 3, 4, 6, 8, 12, 13, 14, 15, 16, 17, 18]\n"
     ]
    },
    {
     "name": "stderr",
     "output_type": "stream",
     "text": [
      " 99%|█████████▉| 1066/1075 [6:02:29<07:31, 50.13s/it]"
     ]
    },
    {
     "name": "stdout",
     "output_type": "stream",
     "text": [
      "AAAAAAAAAAAAAAAAAAAAAAAAAAAAAAAAAAAAAAAAAAAA <class 'dict'> 417787\n",
      "epochs_data shape =  (1085, 19, 400)\n",
      "Automatically found muscle artifact ICA components: [1, 3, 5, 7, 8, 11, 13, 14, 15, 17, 18]\n"
     ]
    },
    {
     "name": "stderr",
     "output_type": "stream",
     "text": [
      " 99%|█████████▉| 1067/1075 [6:03:20<06:42, 50.30s/it]"
     ]
    },
    {
     "name": "stdout",
     "output_type": "stream",
     "text": [
      "AAAAAAAAAAAAAAAAAAAAAAAAAAAAAAAAAAAAAAAAAAAA <class 'dict'> 421708\n",
      "epochs_data shape =  (843, 19, 400)\n",
      "Automatically found muscle artifact ICA components: [0, 1, 2, 5, 7, 8, 10, 11, 12, 14, 15, 16, 17, 18]\n"
     ]
    },
    {
     "name": "stderr",
     "output_type": "stream",
     "text": [
      " 99%|█████████▉| 1068/1075 [6:03:39<04:47, 41.03s/it]"
     ]
    },
    {
     "name": "stdout",
     "output_type": "stream",
     "text": [
      "AAAAAAAAAAAAAAAAAAAAAAAAAAAAAAAAAAAAAAAAAAAA <class 'dict'> 421708\n",
      "epochs_data shape =  (1950, 19, 400)\n",
      "Automatically found muscle artifact ICA components: [1, 5, 7, 8, 9, 12, 13, 14, 15, 17, 18]\n"
     ]
    },
    {
     "name": "stderr",
     "output_type": "stream",
     "text": [
      " 99%|█████████▉| 1069/1075 [6:04:36<04:35, 45.85s/it]"
     ]
    },
    {
     "name": "stdout",
     "output_type": "stream",
     "text": [
      "AAAAAAAAAAAAAAAAAAAAAAAAAAAAAAAAAAAAAAAAAAAA <class 'dict'> 423133\n",
      "epochs_data shape =  (1801, 19, 400)\n",
      "Automatically found muscle artifact ICA components: [2, 3, 4, 6, 7, 8, 10, 11, 12, 13, 15, 16, 17, 18]\n"
     ]
    },
    {
     "name": "stderr",
     "output_type": "stream",
     "text": [
      "100%|█████████▉| 1070/1075 [6:06:44<05:51, 70.24s/it]"
     ]
    },
    {
     "name": "stdout",
     "output_type": "stream",
     "text": [
      "AAAAAAAAAAAAAAAAAAAAAAAAAAAAAAAAAAAAAAAAAAAA <class 'dict'> 441036\n",
      "epochs_data shape =  (803, 19, 400)\n",
      "Automatically found muscle artifact ICA components: [2, 3, 4, 5, 6, 7, 11, 12, 14, 15, 16, 17, 18]\n"
     ]
    },
    {
     "name": "stderr",
     "output_type": "stream",
     "text": [
      "100%|█████████▉| 1071/1075 [6:07:21<04:01, 60.48s/it]"
     ]
    },
    {
     "name": "stdout",
     "output_type": "stream",
     "text": [
      "AAAAAAAAAAAAAAAAAAAAAAAAAAAAAAAAAAAAAAAAAAAA <class 'dict'> 441492\n",
      "epochs_data shape =  (839, 19, 400)\n",
      "Automatically found muscle artifact ICA components: [3, 4, 7, 10, 12, 13, 14, 15, 16, 17, 18]\n"
     ]
    },
    {
     "name": "stderr",
     "output_type": "stream",
     "text": [
      "100%|█████████▉| 1072/1075 [6:07:35<02:19, 46.44s/it]"
     ]
    },
    {
     "name": "stdout",
     "output_type": "stream",
     "text": [
      "AAAAAAAAAAAAAAAAAAAAAAAAAAAAAAAAAAAAAAAAAAAA <class 'dict'> 442203\n",
      "epochs_data shape =  (1439, 19, 400)\n",
      "Automatically found muscle artifact ICA components: [0, 1, 2, 3, 4, 5, 6, 7, 9, 11, 14, 15, 18]\n"
     ]
    },
    {
     "name": "stderr",
     "output_type": "stream",
     "text": [
      "100%|█████████▉| 1073/1075 [6:08:20<01:32, 46.13s/it]"
     ]
    },
    {
     "name": "stdout",
     "output_type": "stream",
     "text": [
      "AAAAAAAAAAAAAAAAAAAAAAAAAAAAAAAAAAAAAAAAAAAA <class 'dict'> 446183\n",
      "epochs_data shape =  (1546, 19, 400)\n",
      "Automatically found muscle artifact ICA components: [3, 5, 8, 9, 10, 12, 13, 14, 15, 16, 17, 18]\n"
     ]
    },
    {
     "name": "stderr",
     "output_type": "stream",
     "text": [
      "100%|█████████▉| 1074/1075 [6:08:52<00:41, 41.83s/it]"
     ]
    },
    {
     "name": "stdout",
     "output_type": "stream",
     "text": [
      "AAAAAAAAAAAAAAAAAAAAAAAAAAAAAAAAAAAAAAAAAAAA <class 'dict'> 447342\n",
      "epochs_data shape =  (1809, 19, 400)\n",
      "Automatically found muscle artifact ICA components: [2, 4, 5, 7, 9, 10, 11, 12, 13, 15, 16, 17, 18]\n"
     ]
    },
    {
     "name": "stderr",
     "output_type": "stream",
     "text": [
      "100%|██████████| 1075/1075 [6:09:21<00:00, 20.62s/it]"
     ]
    },
    {
     "name": "stdout",
     "output_type": "stream",
     "text": [
      "AAAAAAAAAAAAAAAAAAAAAAAAAAAAAAAAAAAAAAAAAAAA <class 'dict'> 448389\n"
     ]
    },
    {
     "name": "stderr",
     "output_type": "stream",
     "text": [
      "\n"
     ]
    }
   ],
   "source": [
    "mne.set_log_level('WARNING')\n",
    "waveletTypes = ['mexh','morl','gaus1','gaus2']\n",
    "# waveletTypes = ['mexh','gaus2']\n",
    "\n",
    "normal_count = 0\n",
    "slowing_count = 0\n",
    "spike_count = 0\n",
    "test_window_data = {\n",
    "    'mexh':[],\n",
    "    'morl':[],\n",
    "    'gaus1':[],\n",
    "    'gaus2':[]\n",
    "}\n",
    "test_window_labels = {\n",
    "    'mexh':[],\n",
    "    'morl':[],\n",
    "    'gaus1':[],\n",
    "    'gaus2':[]\n",
    "}\n",
    "# for chunk_id in tqdm(range(len(edfFile_chunks))):\n",
    "# print(\"Working on Chunk:\",chunk_id)\n",
    "# all_edf_data = edfFile_chunks[chunk_id]\n",
    "train_window_data = {\n",
    "    'mexh':[],\n",
    "    'morl':[],\n",
    "    'gaus1':[],\n",
    "    'gaus2':[]\n",
    "}\n",
    "train_window_labels = {\n",
    "    'mexh':[],\n",
    "    'morl':[],\n",
    "    'gaus1':[],\n",
    "    'gaus2':[]\n",
    "}\n",
    "\n",
    "\n",
    "for edf_name in tqdm(all_edf_data):\n",
    "    file_num = int(edf_name[:-4])\n",
    "    \n",
    "    if edf_name in os.listdir(ab_edf_path):\n",
    "        edf_path = ab_edf_path\n",
    "    else:\n",
    "        edf_path = n_edf_path\n",
    "    \n",
    "    raw = mne.io.read_raw_edf(edf_path+edf_name,preload = True,exclude = ['A1','A2'])     # Importing all EEG Channels, exculding A1 A2 since matlab has already refrenced the channels with A1 and A2\n",
    "    raw.filter(l_freq=2,h_freq=45)      # Bandpass filtering [1-45] Hz\n",
    "    epochs=mne.make_fixed_length_epochs(raw,duration=2,overlap=1)\n",
    "    epochs_data=epochs.get_data()\n",
    "    \n",
    "    rawdata = np.array(raw.get_data()[0:19])\n",
    "    print('epochs_data shape = ',epochs_data.shape)\n",
    "    \n",
    "\n",
    "    ############### Artifact removal For Normal Windows ###################\n",
    "    rawNormal = raw.copy()\n",
    "    rawNormal.filter(l_freq=2,h_freq=45,verbose=False)\n",
    "    montage =  mne.channels.make_standard_montage('standard_1005')\n",
    "    rawNormal.set_montage(montage, match_case=False,verbose=False)\n",
    "    ica = mne.preprocessing.ICA(method=\"picard\", max_iter=\"auto\", random_state=56,verbose=False)\n",
    "    ica.fit(rawNormal,verbose=False)\n",
    "    muscle_idx_auto, scores = ica.find_bads_muscle(rawNormal,verbose=False)\n",
    "    badIndexes = np.where(np.array(scores) > np.median(scores)*0.5)[0].tolist()\n",
    "    ica.exclude = badIndexes\n",
    "    print(f\"Automatically found muscle artifact ICA components: {badIndexes}\")\n",
    "    ica.apply(rawNormal,verbose=False)\n",
    "    full_dataNormal = np.array(rawNormal.get_data(verbose=False))\n",
    "    epochs2=mne.make_fixed_length_epochs(rawNormal,duration=2,overlap=1,verbose=False)\n",
    "    Epochs_data_normal=epochs2.get_data(verbose=False)\n",
    "    #######################################################################\n",
    "    \n",
    "    # Epochs_data = np.concatenate((Epochs_data, epochs_data), axis=0)\n",
    "\n",
    "    with open(main_path_wavelet + 'window_tracker.txt', 'r') as f:\n",
    "        lines = f.readlines()\n",
    "        for single_line in lines[train_pos+1:valid_pos]:\n",
    "            single_line_list = single_line.split(' ')\n",
    "                \n",
    "            if edf_name == single_line_list[0]:\n",
    "                for wavelet in waveletTypes:\n",
    "                    if int(single_line_list[3]) != 0:\n",
    "                        data = epochs_data[int(single_line_list[2])][int(single_line_list[1])]\n",
    "                        \n",
    "                        # pca_features = getDwt(data)\n",
    "                        pca_features = getCwt(data,int(single_line_list[1]),rawdata,wavelet)\n",
    "                        # if len(pca_features) == 9200:\n",
    "                        train_window_data[wavelet].append(pca_features)\n",
    "                        train_window_labels[wavelet].append(np.array(int(single_line_list[3])))\n",
    "                    else: \n",
    "                        data = Epochs_data_normal[int(single_line_list[2])][int(single_line_list[1])]\n",
    "                        \n",
    "                        # pca_features = getDwt(data)\n",
    "                        pca_features = getCwt(data,int(single_line_list[1]),rawdata,wavelet)\n",
    "                        # if len(pca_features) == 9200:\n",
    "                        train_window_data[wavelet].append(pca_features)\n",
    "                        train_window_labels[wavelet].append(np.array(int(single_line_list[3])))\n",
    "            \n",
    "        for single_line in lines[valid_pos+1:test_pos]:\n",
    "            single_line_list = single_line.split(' ')\n",
    "\n",
    "            if edf_name == single_line_list[0]:\n",
    "                for wavelet in waveletTypes:\n",
    "                    if int(single_line_list[3]) != 0:\n",
    "                        data = epochs_data[int(single_line_list[2])][int(single_line_list[1])]\n",
    "                        \n",
    "                        # pca_features = getDwt(data)\n",
    "                        pca_features = getCwt(data,int(single_line_list[1]),rawdata,wavelet)\n",
    "                        # if len(pca_features) == 9200:\n",
    "                        train_window_data[wavelet].append(pca_features)\n",
    "                        train_window_labels[wavelet].append(np.array(int(single_line_list[3])))\n",
    "                    else: \n",
    "                        data = Epochs_data_normal[int(single_line_list[2])][int(single_line_list[1])]\n",
    "                        \n",
    "                        # pca_features = getDwt(data)\n",
    "                        pca_features = getCwt(data,int(single_line_list[1]),rawdata,wavelet)\n",
    "                        # if len(pca_features) == 9200:\n",
    "                        train_window_data[wavelet].append(pca_features)\n",
    "                        train_window_labels[wavelet].append(np.array(int(single_line_list[3])))\n",
    "        \n",
    "        for single_line in lines[test_pos+1:]:\n",
    "            single_line_list = single_line.split(' ')\n",
    "            if edf_name == single_line_list[0]:\n",
    "                \n",
    "                for wavelet in waveletTypes:\n",
    "                    if int(single_line_list[3]) != 0:\n",
    "                        data = epochs_data[int(single_line_list[2])][int(single_line_list[1])]\n",
    "                        # pca_features = getDwt(data)\n",
    "                        pca_features = getCwt(data,int(single_line_list[1]),rawdata,wavelet)\n",
    "                        # if len(pca_features) == 9200:\n",
    "                        test_window_data[wavelet].append(pca_features)\n",
    "                        test_window_labels[wavelet].append(np.array(int(single_line_list[3])))\n",
    "                    else:\n",
    "                        data = Epochs_data_normal[int(single_line_list[2])][int(single_line_list[1])]\n",
    "                        # pca_features = getDwt(data)\n",
    "                        pca_features = getCwt(data,int(single_line_list[1]),rawdata,wavelet)\n",
    "                        # if len(pca_features) == 9200:\n",
    "                        test_window_data[wavelet].append(pca_features)\n",
    "                        test_window_labels[wavelet].append(np.array(int(single_line_list[3])))\n",
    "    collected = gc.collect()\n",
    "    print(\"AAAAAAAAAAAAAAAAAAAAAAAAAAAAAAAAAAAAAAAAAAAA\",type(train_window_data),len(train_window_data['mexh']))\n",
    "\n",
    "    "
   ]
  },
  {
   "cell_type": "code",
   "execution_count": 10,
   "metadata": {},
   "outputs": [],
   "source": [
    "with open(save_path + 'X_train.pkl', 'wb') as file:\n",
    "    pickle.dump(train_window_data, file)\n",
    "with open(save_path + 'Y_train.pkl', 'wb') as file:\n",
    "    pickle.dump(train_window_labels, file)\n",
    "\n",
    "with open(save_path + 'X_test.pkl', 'wb') as file:\n",
    "    pickle.dump(test_window_data, file)\n",
    "with open(save_path + 'Y_test.pkl', 'wb') as file:\n",
    "    pickle.dump(test_window_labels, file)"
   ]
  },
  {
   "cell_type": "code",
   "execution_count": 10,
   "metadata": {},
   "outputs": [],
   "source": [
    "with open(save_path + 'X_train.pkl', 'rb') as pickle_file:\n",
    "    train_window_data = pickle.load(pickle_file)\n",
    "with open(save_path + 'Y_train.pkl', 'rb') as pickle_file:\n",
    "    train_window_labels = pickle.load(pickle_file)\n",
    "\n",
    "with open(save_path + 'X_test.pkl', 'rb') as pickle_file:\n",
    "    test_window_data = pickle.load(pickle_file)\n",
    "with open(save_path + 'Y_test.pkl', 'rb') as pickle_file:\n",
    "    test_window_labels = pickle.load(pickle_file)"
   ]
  },
  {
   "cell_type": "markdown",
   "metadata": {
    "id": "-BLwYpKRKkzt"
   },
   "source": [
    "\n",
    "\n",
    "\n",
    "#### Standardize Data"
   ]
  },
  {
   "cell_type": "code",
   "execution_count": 11,
   "metadata": {
    "id": "t0Q-LCAXKtoX"
   },
   "outputs": [],
   "source": [
    "from sklearn.preprocessing import StandardScaler, MinMaxScaler\n",
    "from sklearn.model_selection import cross_val_score, cross_val_predict\n",
    "from sklearn.metrics import accuracy_score, classification_report, confusion_matrix\n",
    "import itertools\n",
    "from sklearn.tree import DecisionTreeClassifier\n",
    "from sklearn.ensemble import RandomForestClassifier\n",
    "from sklearn import svm\n"
   ]
  },
  {
   "cell_type": "markdown",
   "metadata": {
    "id": "HrWfHnk-9qv_"
   },
   "source": [
    "### Model Implementation"
   ]
  },
  {
   "cell_type": "code",
   "execution_count": 12,
   "metadata": {},
   "outputs": [],
   "source": [
    "from sklearn.preprocessing import StandardScaler\n",
    "waveletTypes = ['mexh','morl','gaus1','gaus2']\n",
    "scaler = {\n",
    "    \"mexh\" : StandardScaler(),\n",
    "    \"morl\" : StandardScaler(),\n",
    "    \"gaus1\": StandardScaler(),\n",
    "    \"gaus2\": StandardScaler()\n",
    "}\n",
    "\n",
    "# Training the model chunk by chunk\n",
    "\n",
    "for wavelet in waveletTypes:\n",
    "    X_train = train_window_data[wavelet]\n",
    "    if len(X_train) > 0:\n",
    "        scaler[wavelet].fit(X_train)  # Normalize data\n",
    "        train_window_data[wavelet] = scaler[wavelet].transform(train_window_data[wavelet])\n",
    "        test_window_data[wavelet] = scaler[wavelet].transform(test_window_data[wavelet])\n",
    "        "
   ]
  },
  {
   "cell_type": "code",
   "execution_count": 13,
   "metadata": {},
   "outputs": [
    {
     "data": {
      "text/plain": [
       "(448389, 115)"
      ]
     },
     "execution_count": 13,
     "metadata": {},
     "output_type": "execute_result"
    }
   ],
   "source": [
    "np.shape(train_window_data['mexh'])"
   ]
  },
  {
   "cell_type": "code",
   "execution_count": 14,
   "metadata": {},
   "outputs": [
    {
     "name": "stdout",
     "output_type": "stream",
     "text": [
      "Number of components required to explain 99.0% variance: 13 mexh\n"
     ]
    },
    {
     "data": {
      "image/png": "[encoded data removed]",
      "text/plain": [
       "<Figure size 1000x600 with 1 Axes>"
      ]
     },
     "metadata": {},
     "output_type": "display_data"
    },
    {
     "name": "stdout",
     "output_type": "stream",
     "text": [
      "Number of components required to explain 99.0% variance: 17 morl\n"
     ]
    },
    {
     "data": {
      "image/png": "[encoded data removed]",
      "text/plain": [
       "<Figure size 1000x600 with 1 Axes>"
      ]
     },
     "metadata": {},
     "output_type": "display_data"
    },
    {
     "name": "stdout",
     "output_type": "stream",
     "text": [
      "Number of components required to explain 99.0% variance: 10 gaus1\n"
     ]
    },
    {
     "data": {
      "image/png": "[encoded data removed]",
      "text/plain": [
       "<Figure size 1000x600 with 1 Axes>"
      ]
     },
     "metadata": {},
     "output_type": "display_data"
    },
    {
     "name": "stdout",
     "output_type": "stream",
     "text": [
      "Number of components required to explain 99.0% variance: 12 gaus2\n"
     ]
    },
    {
     "data": {
      "image/png": "[encoded data removed]",
      "text/plain": [
       "<Figure size 1000x600 with 1 Axes>"
      ]
     },
     "metadata": {},
     "output_type": "display_data"
    }
   ],
   "source": [
    "for wavelet in waveletTypes:\n",
    "    pca = PCA(0.99)\n",
    "    pca.fit(train_window_data[wavelet])\n",
    "    train_window_data[wavelet] = pca.transform(train_window_data[wavelet])\n",
    "    test_window_data[wavelet] = pca.transform(test_window_data[wavelet])\n",
    "\n",
    "    # Assuming X is your data\n",
    "    # pca = PCA()\n",
    "    # pca.fit(train_window_data[wavelet])\n",
    "\n",
    "    cumulative_explained_variance = np.cumsum(pca.explained_variance_ratio_)\n",
    "\n",
    "    # Find the number of components where the cumulative explained variance meets or exceeds the threshold\n",
    "    threshold = 0.99\n",
    "    num_components = np.argmax(cumulative_explained_variance >= threshold) + 1\n",
    "\n",
    "    # Print the number of components\n",
    "    print(f\"Number of components required to explain {threshold*100}% variance: {num_components} \" + wavelet)\n",
    "\n",
    "    # Plot cumulative explained variance\n",
    "    plt.figure(figsize=(10, 6))\n",
    "    plt.plot(cumulative_explained_variance, marker='o', linestyle='--')\n",
    "    plt.xlabel('Number of Components')\n",
    "    plt.ylabel('Cumulative Explained Variance')\n",
    "    plt.title('Cumulative Explained Variance by Number of Principal Components')\n",
    "    plt.axhline(y=threshold, color='r', linestyle='-')\n",
    "    plt.axvline(x=num_components-1, color='r', linestyle='-')\n",
    "    plt.grid(True)\n",
    "    plt.show()"
   ]
  },
  {
   "cell_type": "code",
   "execution_count": 15,
   "metadata": {},
   "outputs": [
    {
     "data": {
      "text/plain": [
       "(99022, 13)"
      ]
     },
     "execution_count": 15,
     "metadata": {},
     "output_type": "execute_result"
    }
   ],
   "source": [
    "np.shape(test_window_data['mexh'])"
   ]
  },
  {
   "cell_type": "code",
   "execution_count": 16,
   "metadata": {},
   "outputs": [],
   "source": [
    "def print_score(clf,  X_test, y_test):\n",
    "    '''\n",
    "    print the accuracy score, classification report and confusion matrix of classifier\n",
    "    '''\n",
    "\n",
    "    '''\n",
    "    test performance\n",
    "    '''\n",
    "    print(\"Test Result:\\n\")        \n",
    "    print(\"accuracy score: {0:.4f}\\n\".format(accuracy_score(y_test, clf.predict(X_test))))\n",
    "    print(\"Classification Report: \\n {}\\n\".format(classification_report(y_test, clf.predict(X_test), digits=5)))\n",
    "    cm = confusion_matrix(y_test, clf.predict(X_test))\n",
    "    print(cm)"
   ]
  },
  {
   "cell_type": "code",
   "execution_count": null,
   "metadata": {},
   "outputs": [],
   "source": [
    "from sklearn.tree import DecisionTreeClassifier\n",
    "from sklearn.model_selection import GridSearchCV\n",
    "from sklearn.metrics import accuracy_score\n",
    "\n",
    "# Define the parameter grid to search\n",
    "param_grid = {\n",
    "    'criterion': ['gini', 'entropy'],\n",
    "    'max_depth': [3, 5, 7, 10, None],\n",
    "    'min_samples_split': [2, 5, 10],\n",
    "    'min_samples_leaf': [1, 2, 4],\n",
    "    'max_features': ['sqrt', 'log2', None],\n",
    "    'splitter': ['best', 'random']\n",
    "}\n",
    "\n",
    "cart_clf = {}\n",
    "\n",
    "for wavelet in waveletTypes:\n",
    "    print(f\"Training on wavelet: {wavelet}\")\n",
    "    \n",
    "    # Initialize a GridSearchCV with DecisionTreeClassifier and the parameter grid\n",
    "    clf = GridSearchCV(DecisionTreeClassifier(random_state=0), param_grid, cv=5, scoring='accuracy')\n",
    "    \n",
    "    # Fit the model\n",
    "    clf.fit(train_window_data[wavelet], train_window_labels[wavelet])\n",
    "    \n",
    "    # Get the best estimator\n",
    "    cart_clf[wavelet] = clf.best_estimator_\n",
    "    \n",
    "    # Evaluate the model\n",
    "    predictions = cart_clf[wavelet].predict(test_window_data[wavelet])\n",
    "    accuracy = accuracy_score(test_window_labels[wavelet], predictions)\n",
    "    print(f\"Best Parameters: {clf.best_params_}\")\n",
    "    print(f\"Accuracy: {accuracy:.4f}\\n\")\n"
   ]
  },
  {
   "cell_type": "code",
   "execution_count": 17,
   "metadata": {},
   "outputs": [
    {
     "name": "stdout",
     "output_type": "stream",
     "text": [
      "mexh\n",
      "Test Result:\n",
      "\n",
      "accuracy score: 0.7198\n",
      "\n",
      "Classification Report: \n",
      "               precision    recall  f1-score   support\n",
      "\n",
      "           0    0.88962   0.86455   0.87691     50697\n",
      "           1    0.58511   0.45474   0.51175     25164\n",
      "           2    0.52999   0.69099   0.59987     23161\n",
      "\n",
      "    accuracy                        0.71981     99022\n",
      "   macro avg    0.66824   0.67009   0.66284     99022\n",
      "weighted avg    0.72812   0.71981   0.71931     99022\n",
      "\n",
      "\n",
      "[[43830  4119  2748]\n",
      " [ 2276 11443 11445]\n",
      " [ 3162  3995 16004]]\n",
      "morl\n",
      "Test Result:\n",
      "\n",
      "accuracy score: 0.6542\n",
      "\n",
      "Classification Report: \n",
      "               precision    recall  f1-score   support\n",
      "\n",
      "           0    0.83386   0.85082   0.84226     50697\n",
      "           1    0.43379   0.42752   0.43063     25164\n",
      "           2    0.48408   0.47014   0.47701     23161\n",
      "\n",
      "    accuracy                        0.65421     99022\n",
      "   macro avg    0.58391   0.58283   0.58330     99022\n",
      "weighted avg    0.65038   0.65421   0.65222     99022\n",
      "\n",
      "\n",
      "[[43134  4726  2837]\n",
      " [ 5638 10758  8768]\n",
      " [ 2956  9316 10889]]\n",
      "gaus1\n",
      "Test Result:\n",
      "\n",
      "accuracy score: 0.7258\n",
      "\n",
      "Classification Report: \n",
      "               precision    recall  f1-score   support\n",
      "\n",
      "           0    0.89966   0.90266   0.90115     50697\n",
      "           1    0.57075   0.36036   0.44178     25164\n",
      "           2    0.52805   0.73568   0.61480     23161\n",
      "\n",
      "    accuracy                        0.72579     99022\n",
      "   macro avg    0.66615   0.66623   0.65258     99022\n",
      "weighted avg    0.72915   0.72579   0.71744     99022\n",
      "\n",
      "\n",
      "[[45762  2200  2735]\n",
      " [ 3602  9068 12494]\n",
      " [ 1502  4620 17039]]\n",
      "gaus2\n",
      "Test Result:\n",
      "\n",
      "accuracy score: 0.6685\n",
      "\n",
      "Classification Report: \n",
      "               precision    recall  f1-score   support\n",
      "\n",
      "           0    0.90322   0.88161   0.89228     50697\n",
      "           1    0.39455   0.32741   0.35786     25164\n",
      "           2    0.46287   0.57269   0.51196     23161\n",
      "\n",
      "    accuracy                        0.66852     99022\n",
      "   macro avg    0.58688   0.59390   0.58737     99022\n",
      "weighted avg    0.67096   0.66852   0.66752     99022\n",
      "\n",
      "\n",
      "[[44695  3888  2114]\n",
      " [ 3647  8239 13278]\n",
      " [ 1142  8755 13264]]\n"
     ]
    }
   ],
   "source": [
    "from sklearn.tree import DecisionTreeClassifier\n",
    "\n",
    "cart_clf = {}\n",
    "\n",
    "for wavelet in waveletTypes:\n",
    "    print(wavelet)\n",
    "    cart_clf[wavelet] = DecisionTreeClassifier(criterion='entropy',max_features = 'sqrt',random_state = 0,max_depth=5,min_samples_leaf=1,splitter = 'best')\n",
    "    cart_clf[wavelet].fit(train_window_data[wavelet], train_window_labels[wavelet])\n",
    "    print_score(cart_clf[wavelet], test_window_data[wavelet], test_window_labels[wavelet])\n",
    "\n",
    "\n",
    "    # print_score(cart_clf, X_train, y_train, X_test, y_test, train = False)"
   ]
  },
  {
   "cell_type": "code",
   "execution_count": 18,
   "metadata": {},
   "outputs": [],
   "source": [
    "for wavelet, model in cart_clf.items():\n",
    "    with open(\"ml_models/cart_clf_\" + wavelet + '.pkl', 'wb') as file:\n",
    "        pickle.dump(model, file)"
   ]
  },
  {
   "cell_type": "code",
   "execution_count": 21,
   "metadata": {},
   "outputs": [
    {
     "name": "stdout",
     "output_type": "stream",
     "text": [
      "Fitting 3 folds for each of 1 candidates, totalling 3 fits\n",
      "[CV] END criterion=entropy, max_depth=20, max_features=sqrt, min_samples_leaf=1, n_estimators=300; total time= 5.1min\n",
      "[CV] END criterion=entropy, max_depth=20, max_features=sqrt, min_samples_leaf=1, n_estimators=300; total time= 5.1min\n",
      "[CV] END criterion=entropy, max_depth=20, max_features=sqrt, min_samples_leaf=1, n_estimators=300; total time= 5.1min\n",
      "Best parameters found:  {'criterion': 'entropy', 'max_depth': 20, 'max_features': 'sqrt', 'min_samples_leaf': 1, 'n_estimators': 300}\n",
      "Test Result:\n",
      "\n",
      "accuracy score: 0.7232\n",
      "\n",
      "Classification Report: \n",
      "               precision    recall  f1-score   support\n",
      "\n",
      "           0    0.91987   0.89258   0.90602     50697\n",
      "           1    0.54409   0.42541   0.47749     25164\n",
      "           2    0.51914   0.67588   0.58723     23161\n",
      "\n",
      "    accuracy                        0.72317     99022\n",
      "   macro avg    0.66103   0.66462   0.65691     99022\n",
      "weighted avg    0.73064   0.72317   0.72255     99022\n",
      "\n",
      "\n",
      "[[45251  3080  2366]\n",
      " [ 2325 10705 12134]\n",
      " [ 1617  5890 15654]]\n",
      "Fitting 3 folds for each of 1 candidates, totalling 3 fits\n",
      "[CV] END criterion=entropy, max_depth=20, max_features=sqrt, min_samples_leaf=1, n_estimators=300; total time= 6.6min\n",
      "[CV] END criterion=entropy, max_depth=20, max_features=sqrt, min_samples_leaf=1, n_estimators=300; total time= 6.6min\n",
      "[CV] END criterion=entropy, max_depth=20, max_features=sqrt, min_samples_leaf=1, n_estimators=300; total time= 6.7min\n",
      "Best parameters found:  {'criterion': 'entropy', 'max_depth': 20, 'max_features': 'sqrt', 'min_samples_leaf': 1, 'n_estimators': 300}\n",
      "Test Result:\n",
      "\n",
      "accuracy score: 0.6378\n",
      "\n",
      "Classification Report: \n",
      "               precision    recall  f1-score   support\n",
      "\n",
      "           0    0.83832   0.86185   0.84992     50697\n",
      "           1    0.38996   0.33945   0.36296     25164\n",
      "           2    0.43709   0.47174   0.45376     23161\n",
      "\n",
      "    accuracy                        0.63785     99022\n",
      "   macro avg    0.55512   0.55768   0.55554     99022\n",
      "weighted avg    0.63053   0.63785   0.63351     99022\n",
      "\n",
      "\n",
      "[[43693  4623  2381]\n",
      " [ 4932  8542 11690]\n",
      " [ 3495  8740 10926]]\n",
      "Fitting 3 folds for each of 1 candidates, totalling 3 fits\n",
      "[CV] END criterion=entropy, max_depth=20, max_features=sqrt, min_samples_leaf=1, n_estimators=300; total time= 4.8min\n",
      "[CV] END criterion=entropy, max_depth=20, max_features=sqrt, min_samples_leaf=1, n_estimators=300; total time= 4.8min\n",
      "[CV] END criterion=entropy, max_depth=20, max_features=sqrt, min_samples_leaf=1, n_estimators=300; total time= 5.0min\n",
      "Best parameters found:  {'criterion': 'entropy', 'max_depth': 20, 'max_features': 'sqrt', 'min_samples_leaf': 1, 'n_estimators': 300}\n",
      "Test Result:\n",
      "\n",
      "accuracy score: 0.7233\n",
      "\n",
      "Classification Report: \n",
      "               precision    recall  f1-score   support\n",
      "\n",
      "           0    0.93002   0.89027   0.90971     50697\n",
      "           1    0.53626   0.41492   0.46785     25164\n",
      "           2    0.51741   0.69302   0.59247     23161\n",
      "\n",
      "    accuracy                        0.72333     99022\n",
      "   macro avg    0.66123   0.66607   0.65668     99022\n",
      "weighted avg    0.73345   0.72333   0.72322     99022\n",
      "\n",
      "\n",
      "[[45134  3155  2408]\n",
      " [ 2160 10441 12563]\n",
      " [ 1236  5874 16051]]\n",
      "Fitting 3 folds for each of 1 candidates, totalling 3 fits\n",
      "[CV] END criterion=entropy, max_depth=20, max_features=sqrt, min_samples_leaf=1, n_estimators=300; total time= 4.8min\n",
      "[CV] END criterion=entropy, max_depth=20, max_features=sqrt, min_samples_leaf=1, n_estimators=300; total time= 4.9min\n",
      "[CV] END criterion=entropy, max_depth=20, max_features=sqrt, min_samples_leaf=1, n_estimators=300; total time= 4.9min\n",
      "Best parameters found:  {'criterion': 'entropy', 'max_depth': 20, 'max_features': 'sqrt', 'min_samples_leaf': 1, 'n_estimators': 300}\n",
      "Test Result:\n",
      "\n",
      "accuracy score: 0.7228\n",
      "\n",
      "Classification Report: \n",
      "               precision    recall  f1-score   support\n",
      "\n",
      "           0    0.91694   0.89147   0.90403     50697\n",
      "           1    0.54514   0.39835   0.46032     25164\n",
      "           2    0.52168   0.70601   0.60001     23161\n",
      "\n",
      "    accuracy                        0.72278     99022\n",
      "   macro avg    0.66125   0.66528   0.65479     99022\n",
      "weighted avg    0.73000   0.72278   0.72016     99022\n",
      "\n",
      "\n",
      "[[45195  3088  2414]\n",
      " [ 2561 10024 12579]\n",
      " [ 1533  5276 16352]]\n"
     ]
    }
   ],
   "source": [
    "from sklearn.model_selection import GridSearchCV\n",
    "from sklearn.ensemble import RandomForestClassifier\n",
    "# Define the parameter grid\n",
    "param_grid = {\n",
    "    'n_estimators': [100, 200, 300],\n",
    "    'criterion': ['gini', 'entropy'],\n",
    "    'max_depth': [7, 10, 15, 20],\n",
    "    'min_samples_leaf': [1, 2, 4, 5],\n",
    "    'max_features': ['sqrt', 'log2']\n",
    "}\n",
    "param_grid = {\n",
    "    'n_estimators': [300],\n",
    "    'criterion': ['entropy'],\n",
    "    'max_depth': [20],\n",
    "    'min_samples_leaf': [1],\n",
    "    'max_features': ['sqrt']\n",
    "}\n",
    "# Best parameters found:  {'criterion': 'entropy', 'max_depth': 20, 'max_features': 'sqrt', 'min_samples_leaf': 1, 'n_estimators': 300}\n",
    "\n",
    "rf_clf = {}\n",
    "for wavelet in waveletTypes:\n",
    "    # Instantiate the RandomForestClassifier\n",
    "    rf_clf[wavelet] = RandomForestClassifier(random_state=0, bootstrap=True)\n",
    "\n",
    "    # Instantiate the grid search model\n",
    "    grid_search = GridSearchCV(estimator=rf_clf[wavelet], param_grid=param_grid, \n",
    "                            cv=3, n_jobs=-1, verbose=2, scoring='accuracy')\n",
    "\n",
    "    # Fit the grid search to the data\n",
    "    grid_search.fit(train_window_data[wavelet], np.array(train_window_labels[wavelet]).ravel())\n",
    "\n",
    "    # Print the best parameters found by the grid search\n",
    "    print(\"Best parameters found: \", grid_search.best_params_)\n",
    "\n",
    "    # Use the best estimator\n",
    "    rf_clf[wavelet] = grid_search.best_estimator_\n",
    "\n",
    "    print_score(rf_clf[wavelet], test_window_data[wavelet], test_window_labels[wavelet])\n",
    "\n",
    "for wavelet, model in rf_clf.items():\n",
    "    with open(\"ml_models/rf_optimized_clf_\" + wavelet + '.pkl', 'wb') as file:\n",
    "        pickle.dump(model, file)"
   ]
  },
  {
   "cell_type": "code",
   "execution_count": 22,
   "metadata": {},
   "outputs": [
    {
     "name": "stdout",
     "output_type": "stream",
     "text": [
      "Test Result:\n",
      "\n",
      "accuracy score: 0.7324\n",
      "\n",
      "Classification Report: \n",
      "               precision    recall  f1-score   support\n",
      "\n",
      "           0    0.92237   0.89082   0.90632     50697\n",
      "           1    0.57477   0.41591   0.48260     25164\n",
      "           2    0.53061   0.72967   0.61442     23161\n",
      "\n",
      "    accuracy                        0.73244     99022\n",
      "   macro avg    0.67592   0.67880   0.66778     99022\n",
      "weighted avg    0.74241   0.73244   0.73037     99022\n",
      "\n",
      "\n",
      "[[45162  2780  2755]\n",
      " [ 2503 10466 12195]\n",
      " [ 1298  4963 16900]]\n",
      "Test Result:\n",
      "\n",
      "accuracy score: 0.6325\n",
      "\n",
      "Classification Report: \n",
      "               precision    recall  f1-score   support\n",
      "\n",
      "           0    0.83900   0.86181   0.85025     50697\n",
      "           1    0.38567   0.32868   0.35490     25164\n",
      "           2    0.41845   0.46073   0.43858     23161\n",
      "\n",
      "    accuracy                        0.63252     99022\n",
      "   macro avg    0.54771   0.55041   0.54791     99022\n",
      "weighted avg    0.62543   0.63252   0.62808     99022\n",
      "\n",
      "\n",
      "[[43691  3918  3088]\n",
      " [ 5151  8271 11742]\n",
      " [ 3233  9257 10671]]\n",
      "Test Result:\n",
      "\n",
      "accuracy score: 0.7149\n",
      "\n",
      "Classification Report: \n",
      "               precision    recall  f1-score   support\n",
      "\n",
      "           0    0.91522   0.88534   0.90003     50697\n",
      "           1    0.52612   0.39743   0.45281     25164\n",
      "           2    0.51345   0.68659   0.58753     23161\n",
      "\n",
      "    accuracy                        0.71486     99022\n",
      "   macro avg    0.65159   0.65645   0.64679     99022\n",
      "weighted avg    0.72236   0.71486   0.71329     99022\n",
      "\n",
      "\n",
      "[[44884  3152  2661]\n",
      " [ 2755 10001 12408]\n",
      " [ 1403  5856 15902]]\n",
      "Test Result:\n",
      "\n",
      "accuracy score: 0.7162\n",
      "\n",
      "Classification Report: \n",
      "               precision    recall  f1-score   support\n",
      "\n",
      "           0    0.91504   0.88966   0.90217     50697\n",
      "           1    0.53450   0.39310   0.45302     25164\n",
      "           2    0.50999   0.68754   0.58560     23161\n",
      "\n",
      "    accuracy                        0.71619     99022\n",
      "   macro avg    0.65318   0.65676   0.64693     99022\n",
      "weighted avg    0.72359   0.71619   0.71399     99022\n",
      "\n",
      "\n",
      "[[45103  2810  2784]\n",
      " [ 2756  9892 12516]\n",
      " [ 1432  5805 15924]]\n"
     ]
    }
   ],
   "source": [
    "from sklearn.ensemble import RandomForestClassifier\n",
    "\n",
    "rf_clf1 = {}\n",
    "for wavelet in waveletTypes:\n",
    "    rf_clf1[wavelet] = RandomForestClassifier(n_estimators = 100,criterion='entropy',max_features = 'sqrt',random_state = 0,max_depth=7,min_samples_leaf=2)\n",
    "    rf_clf1[wavelet].fit(train_window_data[wavelet], np.array(train_window_labels[wavelet]).ravel())\n",
    "    print_score(rf_clf1[wavelet], test_window_data[wavelet], test_window_labels[wavelet])"
   ]
  },
  {
   "cell_type": "code",
   "execution_count": null,
   "metadata": {},
   "outputs": [],
   "source": [
    "for wavelet, model in rf_clf.items():\n",
    "    with open(\"ml_models/rf_clf_\" + wavelet + '.pkl', 'wb') as file:\n",
    "        pickle.dump(model, file)"
   ]
  },
  {
   "cell_type": "markdown",
   "metadata": {
    "id": "trjBg-KE9NjP"
   },
   "source": [
    "#### Accuracy Metrics and Confusion Matrix"
   ]
  },
  {
   "cell_type": "code",
   "execution_count": null,
   "metadata": {
    "id": "y8hKbBWHN2Q1"
   },
   "outputs": [],
   "source": [
    "svm_clf = {}\n",
    "\n",
    "for wavelet in waveletTypes:\n",
    "    print('----------------',wavelet)\n",
    "    X_train = train_window_data[wavelet]\n",
    "    if len(X_train) > 0:\n",
    "        X_test = test_window_data[wavelet]\n",
    "        y_train = train_window_labels[wavelet]\n",
    "        y_test = test_window_labels[wavelet]\n",
    "        \n",
    "        sc = StandardScaler()\n",
    "        mm_sc = MinMaxScaler()\n",
    "        sc.fit(X_train)\n",
    "        X_train_sc = sc.transform(X_train)\n",
    "        X_test_sc = sc.transform(X_test)\n",
    "\n",
    "        mm_sc.fit(X_train)\n",
    "        X_train_mm_sc = mm_sc.transform(X_train)\n",
    "        X_test_mm_sc = mm_sc.transform(X_test)\n",
    "        svm_clf[wavelet] = svm.SVC(kernel='linear',decision_function_shape = 'ovr',gamma='auto',random_state=0, C = 2.0,verbose=True)\n",
    "        svm_clf[wavelet].fit(X_train_mm_sc, y_train)\n",
    "        print_score(svm_clf[wavelet], X_train_mm_sc, y_train, X_test_mm_sc, y_test, train = False)"
   ]
  },
  {
   "cell_type": "code",
   "execution_count": null,
   "metadata": {},
   "outputs": [],
   "source": [
    "for wavelet, model in svm_clf.items():\n",
    "    with open(\"ml_models/svm_clf_\" + wavelet + '.pkl', 'wb') as file:\n",
    "        pickle.dump(model, file)"
   ]
  },
  {
   "cell_type": "code",
   "execution_count": null,
   "metadata": {},
   "outputs": [],
   "source": [
    "import numpy as np\n",
    "\n",
    "def calculate_generalized_accuracy(confusion_matrix):\n",
    "    # Ensure the confusion matrix is a NumPy array\n",
    "    confusion_matrix = np.array(confusion_matrix)\n",
    "    \n",
    "    num_classes = confusion_matrix.shape[0]\n",
    "    accuracies = []\n",
    "\n",
    "    for i in range(num_classes):\n",
    "        TP = confusion_matrix[i, i]\n",
    "        FN = np.sum(confusion_matrix[i, :]) - TP\n",
    "        FP = np.sum(confusion_matrix[:, i]) - TP\n",
    "        TN = np.sum(confusion_matrix) - (TP + FN + FP)\n",
    "        \n",
    "        accuracy = (TP + TN) / (TP + TN + FP + FN)\n",
    "        accuracies.append(accuracy)\n",
    "    \n",
    "    average_accuracy = np.mean(accuracies)\n",
    "    return average_accuracy\n",
    "\n",
    "# Example usage\n",
    "confusion_matrix = [[89748,  3174,  3657],\n",
    " [25793,  5463,  5474],\n",
    " [ 8180,  3456,  8405]]\n",
    "average_accuracy = calculate_generalized_accuracy(confusion_matrix)\n",
    "print(f\"Average accuracy: {average_accuracy:.4f}\")"
   ]
  },
  {
   "cell_type": "code",
   "execution_count": null,
   "metadata": {},
   "outputs": [],
   "source": [
    "from scipy.stats import mode\n",
    "\n",
    "def ensemble_predict(models, data):\n",
    "    # Collect the predictions and their probabilities from each model\n",
    "    all_preds = np.zeros((len(models), data.shape[0]), dtype=int)\n",
    "    all_probs = np.zeros((len(models), data.shape[0], models[0].predict_proba(data).shape[1]))\n",
    "    \n",
    "    for i, model in enumerate(models):\n",
    "        all_preds[i] = model.predict(data)\n",
    "        all_probs[i] = model.predict_proba(data)\n",
    "    \n",
    "    # Compute the mode of the predictions along the first axis\n",
    "    final_preds, counts = mode(all_preds, axis=0)\n",
    "    \n",
    "    # Flatten the final_preds array to get a 1D array\n",
    "    final_preds = final_preds.flatten()\n",
    "    \n",
    "    # Check for ties and apply tie-breaking strategy\n",
    "    for i in range(len(final_preds)):\n",
    "        if counts[0, i] == 1:  # All predictions are different\n",
    "            # Get the classes predicted by each model for this sample\n",
    "            class_preds = all_preds[:, i]\n",
    "            \n",
    "            # Get the corresponding probabilities for these classes\n",
    "            class_probs = np.array([all_probs[j, i, class_preds[j]] for j in range(len(models))])\n",
    "            \n",
    "            # Choose the class with the highest confidence\n",
    "            final_preds[i] = class_preds[np.argmax(class_probs)]\n",
    "    \n",
    "    return final_preds"
   ]
  },
  {
   "cell_type": "code",
   "execution_count": null,
   "metadata": {},
   "outputs": [],
   "source": [
    "models = []\n",
    "wavelet = 'mexh'\n",
    "\n",
    "with open(\"ml_models/cart_clf_\" + wavelet + '.pkl', 'rb') as file:\n",
    "    models.append(pickle.load(file))\n",
    "with open(\"ml_models/rf_clf_\" + wavelet + '.pkl', 'rb') as file:\n",
    "    models.append(pickle.load(file))\n",
    "# with open(\"ml_models/svm_clf_\" + wavelet + '.pkl', 'rb') as file:\n",
    "#     models.append(pickle.load(file))\n",
    "\n",
    "ensemble_predict(models, test_window_data[wavelet])\n",
    "print(\"Test Result:\\n\")        \n",
    "print(\"accuracy score: {0:.4f}\\n\".format(accuracy_score(test_window_labels[wavelet], ensemble_predict(models, test_window_data[wavelet]))))\n",
    "print(\"Classification Report: \\n {}\\n\".format(classification_report(test_window_labels[wavelet], ensemble_predict(models, test_window_data[wavelet]))))\n",
    "cm = confusion_matrix(test_window_labels[wavelet], ensemble_predict(models, test_window_data[wavelet]))\n",
    "print(cm)"
   ]
  },
  {
   "cell_type": "markdown",
   "metadata": {
    "id": "8eX--CtJy_ZQ"
   },
   "source": [
    "END"
   ]
  },
  {
   "cell_type": "markdown",
   "metadata": {},
   "source": [
    "**Signed By:**\n",
    "\n",
    "Muiz Alvi <br><br>\n",
    "Adil Jowad Qureshi"
   ]
  }
 ],
 "metadata": {
  "colab": {
   "collapsed_sections": [
    "HrWfHnk-9qv_",
    "PM3lUCyahe9P",
    "8eX--CtJy_ZQ"
   ],
   "name": "Final Defense - ML results.ipynb",
   "provenance": []
  },
  "kernelspec": {
   "display_name": "eeg",
   "language": "python",
   "name": "python3"
  },
  "language_info": {
   "codemirror_mode": {
    "name": "ipython",
    "version": 3
   },
   "file_extension": ".py",
   "mimetype": "text/x-python",
   "name": "python",
   "nbconvert_exporter": "python",
   "pygments_lexer": "ipython3",
   "version": "3.8.18"
  }
 },
 "nbformat": 4,
 "nbformat_minor": 1
}
