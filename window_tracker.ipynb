{
 "cells": [
  {
   "cell_type": "code",
   "execution_count": 1,
   "metadata": {},
   "outputs": [],
   "source": [
    "import random\n",
    "import os \n",
    "\n",
    "random.seed(444)"
   ]
  },
  {
   "cell_type": "code",
   "execution_count": 2,
   "metadata": {},
   "outputs": [],
   "source": [
    "def label_conv(folder_name):\n",
    "    if folder_name == 'Normal':\n",
    "        return 0\n",
    "    elif folder_name == 'Slowing Waves':\n",
    "        return 1\n",
    "    elif folder_name == 'Spike and Sharp waves':\n",
    "        return 2\n",
    "    else:\n",
    "        print('Error in Label')\n",
    "        return None\n",
    "\n",
    "def name_changer(file_name, folder_name):\n",
    "    file_name_list = file_name.split('_')\n",
    "    if 'img' in file_name_list[0]:\n",
    "        window = file_name_list[1]\n",
    "        channel = file_name_list[2]\n",
    "        edf_file = file_name_list[3][:-4]\n",
    "        label = str(label_conv(folder_name))\n",
    "    else:\n",
    "        window = file_name_list[2]\n",
    "        channel = file_name_list[3]\n",
    "        edf_file = file_name_list[4][:-4]\n",
    "        label = str(label_conv(folder_name))\n",
    "\n",
    "    edf_file = str(10000000 + int(edf_file))[1:] + '.edf'\n",
    "\n",
    "    return edf_file, channel, window, label\n"
   ]
  },
  {
   "cell_type": "code",
   "execution_count": 3,
   "metadata": {},
   "outputs": [
    {
     "name": "stdout",
     "output_type": "stream",
     "text": [
      "mexh\n",
      "morl\n",
      "gaus1\n",
      "gaus2\n",
      "Completed Creating tracker files\n"
     ]
    }
   ],
   "source": [
    "wavelets = ['mexh','morl','gaus1','gaus2']\n",
    "PATH = '[path_to_DataFolder]/scallogramTest/'\n",
    "for x in wavelets:\n",
    "    print(x)\n",
    "\n",
    "    train_path = PATH +x+ \"/train/\"\n",
    "    test_path = PATH +x+ \"/test/\"\n",
    "    valid_path = PATH +x+ \"/valid/\"\n",
    "\n",
    "    save_path = PATH+x+\"/\"\n",
    "    paths = [train_path, valid_path, test_path]\n",
    "    with open(save_path + 'window_tracker.txt', 'w') as f:   \n",
    "        for single_path in paths:\n",
    "            f.write(single_path.split('/')[-2])\n",
    "            f.write('\\n')\n",
    "            folder_list = os.listdir(single_path)\n",
    "            for folder in folder_list:\n",
    "                for file_name in os.listdir(single_path + folder):\n",
    "                    edf_file, channel, window, label = name_changer(file_name, folder)\n",
    "                    f.write(edf_file + ' ' + channel + ' ' + window + ' ' + label)\n",
    "                    f.write('\\n')\n",
    "            f.write('\\n')\n",
    "print(\"Completed Creating tracker files\")"
   ]
  }
 ],
 "metadata": {
  "kernelspec": {
   "display_name": "Python 3",
   "language": "python",
   "name": "python3"
  },
  "language_info": {
   "codemirror_mode": {
    "name": "ipython",
    "version": 3
   },
   "file_extension": ".py",
   "mimetype": "text/x-python",
   "name": "python",
   "nbconvert_exporter": "python",
   "pygments_lexer": "ipython3",
   "version": "3.8.18"
  }
 },
 "nbformat": 4,
 "nbformat_minor": 2
}
